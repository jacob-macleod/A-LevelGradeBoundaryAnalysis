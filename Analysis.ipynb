{
 "cells": [
  {
   "cell_type": "code",
   "execution_count": 4,
   "metadata": {},
   "outputs": [],
   "source": [
    "# Import some libraries\n",
    "import pandas as pd\n",
    "import numpy as np\n",
    "%matplotlib inline\n",
    "import matplotlib.pyplot as plt"
   ]
  },
  {
   "cell_type": "code",
   "execution_count": 13,
   "metadata": {},
   "outputs": [
    {
     "data": {
      "text/html": [
       "<div>\n",
       "<style scoped>\n",
       "    .dataframe tbody tr th:only-of-type {\n",
       "        vertical-align: middle;\n",
       "    }\n",
       "\n",
       "    .dataframe tbody tr th {\n",
       "        vertical-align: top;\n",
       "    }\n",
       "\n",
       "    .dataframe thead th {\n",
       "        text-align: right;\n",
       "    }\n",
       "</style>\n",
       "<table border=\"1\" class=\"dataframe\">\n",
       "  <thead>\n",
       "    <tr style=\"text-align: right;\">\n",
       "      <th></th>\n",
       "      <th>year</th>\n",
       "      <th>markFor100%UMS</th>\n",
       "      <th>markFor90%UMS</th>\n",
       "      <th>markForA</th>\n",
       "      <th>markForB</th>\n",
       "      <th>markForC</th>\n",
       "    </tr>\n",
       "  </thead>\n",
       "  <tbody>\n",
       "    <tr>\n",
       "      <th>0</th>\n",
       "      <td>2022</td>\n",
       "      <td>59</td>\n",
       "      <td>50</td>\n",
       "      <td>41</td>\n",
       "      <td>32</td>\n",
       "      <td>24</td>\n",
       "    </tr>\n",
       "    <tr>\n",
       "      <th>1</th>\n",
       "      <td>2021</td>\n",
       "      <td>0</td>\n",
       "      <td>0</td>\n",
       "      <td>0</td>\n",
       "      <td>0</td>\n",
       "      <td>0</td>\n",
       "    </tr>\n",
       "    <tr>\n",
       "      <th>2</th>\n",
       "      <td>2020</td>\n",
       "      <td>0</td>\n",
       "      <td>0</td>\n",
       "      <td>0</td>\n",
       "      <td>0</td>\n",
       "      <td>0</td>\n",
       "    </tr>\n",
       "    <tr>\n",
       "      <th>3</th>\n",
       "      <td>2019</td>\n",
       "      <td>84</td>\n",
       "      <td>74</td>\n",
       "      <td>64</td>\n",
       "      <td>54</td>\n",
       "      <td>45</td>\n",
       "    </tr>\n",
       "    <tr>\n",
       "      <th>4</th>\n",
       "      <td>2018</td>\n",
       "      <td>85</td>\n",
       "      <td>75</td>\n",
       "      <td>65</td>\n",
       "      <td>55</td>\n",
       "      <td>46</td>\n",
       "    </tr>\n",
       "  </tbody>\n",
       "</table>\n",
       "</div>"
      ],
      "text/plain": [
       "   year  markFor100%UMS  markFor90%UMS  markForA  markForB  markForC\n",
       "0  2022              59             50        41        32        24\n",
       "1  2021               0              0         0         0         0\n",
       "2  2020               0              0         0         0         0\n",
       "3  2019              84             74        64        54        45\n",
       "4  2018              85             75        65        55        46"
      ]
     },
     "execution_count": 13,
     "metadata": {},
     "output_type": "execute_result"
    }
   ],
   "source": [
    "df = pd.read_csv(\"PhysicsUnit4Boundaries.csv\")\n",
    "df.head()"
   ]
  },
  {
   "cell_type": "code",
   "execution_count": 14,
   "metadata": {},
   "outputs": [
    {
     "data": {
      "text/plain": [
       "[<matplotlib.lines.Line2D at 0x7f17df82c850>]"
      ]
     },
     "execution_count": 14,
     "metadata": {},
     "output_type": "execute_result"
    },
    {
     "data": {
      "image/png": "[encoded data removed]",
      "text/plain": [
       "<Figure size 432x288 with 1 Axes>"
      ]
     },
     "metadata": {
      "needs_background": "light"
     },
     "output_type": "display_data"
    }
   ],
   "source": [
    "plt.plot(df[\"year\"], df[\"markFor100%UMS\"])\n",
    "plt.plot(df[\"year\"], df[\"markFor90%UMS\"])\n",
    "plt.plot(df[\"year\"], df[\"markForA\"])\n",
    "plt.plot(df[\"year\"], df[\"markForB\"])\n",
    "plt.plot(df[\"year\"], df[\"markForC\"])"
   ]
  },
  {
   "cell_type": "markdown",
   "metadata": {},
   "source": [
    "# Explanation so Far\n",
    "\n",
    "Above, the grade boundaries since 2011 for A Level WJEC Physics Unit 4 and PH5 can be seen. The general trend has stayed constant, with standards dropping slightly until 2019. The spike in 2012 can be attributed to the specification being updated a year previously, causing a period where examiners found it difficult to identify the correct difficulty.\n",
    "\n",
    "In 2020 and 2021, the COVID-19 virus meant that there were no exams, so values have been set to zero. In 2022, a recovery of grades can be seen, but not a total recovery, showing that there is still a long way to go until grades are at 2019 levels. However, that point will likely come, as the recovery is already beginning.\n",
    "\n",
    "In 2016, a new specification was released. The data for the exams from 2016 onwards are from Unit 4, whereas befor 2016, they are from PH5. Slightly different topics are in PH5 to Unit 4, being replaced by some topics in PH4. However, on the whole, PH5 seems to be the equivilant of Unit 4, and PH4 seems to be the equivilant of Unit 3.\n",
    "\n",
    "Based on this trend, grade boundaries in 2013 would be expected to be between 2022 and 2019 values"
   ]
  }
 ],
 "metadata": {
  "kernelspec": {
   "display_name": "Python 3",
   "language": "python",
   "name": "python3"
  },
  "language_info": {
   "codemirror_mode": {
    "name": "ipython",
    "version": 3
   },
   "file_extension": ".py",
   "mimetype": "text/x-python",
   "name": "python",
   "nbconvert_exporter": "python",
   "pygments_lexer": "ipython3",
   "version": "3.8.5"
  }
 },
 "nbformat": 4,
 "nbformat_minor": 4
}
